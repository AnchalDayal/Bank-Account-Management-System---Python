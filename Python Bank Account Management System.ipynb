{
 "cells": [
  {
   "cell_type": "markdown",
   "id": "9f2dc136-d970-4064-9d91-7266199f4d2f",
   "metadata": {},
   "source": [
    "# Python Bank Account Management System"
   ]
  },
  {
   "cell_type": "code",
   "execution_count": 3,
   "id": "05a3b385-1b98-4826-8a5e-e20c168310c0",
   "metadata": {},
   "outputs": [
    {
     "name": "stdout",
     "output_type": "stream",
     "text": [
      "\n",
      "Bank Account Management System\n",
      "1. Open a New Account\n",
      "2. View Account Details\n",
      "3. Deposit Money\n",
      "4. Withdraw Money\n",
      "5. Transfer Money\n",
      "6. View Transaction History\n",
      "7. View Summary Statistics\n",
      "8. Exit\n"
     ]
    },
    {
     "name": "stdin",
     "output_type": "stream",
     "text": [
      "Enter your choice:  1\n",
      "Enter account holder's name:  Anchal Dayal\n",
      "Enter account type (Savings/Current):  Savings\n",
      "Enter initial balance:  20000\n"
     ]
    },
    {
     "name": "stdout",
     "output_type": "stream",
     "text": [
      "Account created successfully! Account No: 54778603772, User ID: anchal_dayal3772, Password: 967269\n",
      "\n",
      "Bank Account Management System\n",
      "1. Open a New Account\n",
      "2. View Account Details\n",
      "3. Deposit Money\n",
      "4. Withdraw Money\n",
      "5. Transfer Money\n",
      "6. View Transaction History\n",
      "7. View Summary Statistics\n",
      "8. Exit\n"
     ]
    },
    {
     "name": "stdin",
     "output_type": "stream",
     "text": [
      "Enter your choice:  1\n",
      "Enter account holder's name:  Khushi Agarwal\n",
      "Enter account type (Savings/Current):  Savings\n",
      "Enter initial balance:  800000\n"
     ]
    },
    {
     "name": "stdout",
     "output_type": "stream",
     "text": [
      "Account created successfully! Account No: 31058802008, User ID: khushi_agarwal2008, Password: 511702\n",
      "\n",
      "Bank Account Management System\n",
      "1. Open a New Account\n",
      "2. View Account Details\n",
      "3. Deposit Money\n",
      "4. Withdraw Money\n",
      "5. Transfer Money\n",
      "6. View Transaction History\n",
      "7. View Summary Statistics\n",
      "8. Exit\n"
     ]
    },
    {
     "name": "stdin",
     "output_type": "stream",
     "text": [
      "Enter your choice:  2\n",
      "Enter account number:  31058802008\n",
      "Enter account password:  511702\n"
     ]
    },
    {
     "name": "stdout",
     "output_type": "stream",
     "text": [
      "Account Holder: Khushi Agarwal\n",
      "Account Type: Savings\n",
      "Account Balance: 800000.0\n",
      "\n",
      "Bank Account Management System\n",
      "1. Open a New Account\n",
      "2. View Account Details\n",
      "3. Deposit Money\n",
      "4. Withdraw Money\n",
      "5. Transfer Money\n",
      "6. View Transaction History\n",
      "7. View Summary Statistics\n",
      "8. Exit\n"
     ]
    },
    {
     "name": "stdin",
     "output_type": "stream",
     "text": [
      "Enter your choice:  3\n",
      "Enter account number:  511702\n",
      "Enter amount to deposit:  8900\n"
     ]
    },
    {
     "name": "stdout",
     "output_type": "stream",
     "text": [
      "Invalid account number or amount.\n",
      "\n",
      "Bank Account Management System\n",
      "1. Open a New Account\n",
      "2. View Account Details\n",
      "3. Deposit Money\n",
      "4. Withdraw Money\n",
      "5. Transfer Money\n",
      "6. View Transaction History\n",
      "7. View Summary Statistics\n",
      "8. Exit\n"
     ]
    },
    {
     "name": "stdin",
     "output_type": "stream",
     "text": [
      "Enter your choice:  3\n",
      "Enter account number:  31058802008\n",
      "Enter amount to deposit:  2000\n"
     ]
    },
    {
     "name": "stdout",
     "output_type": "stream",
     "text": [
      "Deposited 2000.0 successfully! New Balance: 802000.0\n",
      "\n",
      "Bank Account Management System\n",
      "1. Open a New Account\n",
      "2. View Account Details\n",
      "3. Deposit Money\n",
      "4. Withdraw Money\n",
      "5. Transfer Money\n",
      "6. View Transaction History\n",
      "7. View Summary Statistics\n",
      "8. Exit\n"
     ]
    },
    {
     "name": "stdin",
     "output_type": "stream",
     "text": [
      "Enter your choice:  4\n",
      "Enter account number:  31058802008\n",
      "Enter amount to withdraw:  10000\n"
     ]
    },
    {
     "name": "stdout",
     "output_type": "stream",
     "text": [
      "Withdrew 10000.0 successfully! New Balance: 792000.0\n",
      "\n",
      "Bank Account Management System\n",
      "1. Open a New Account\n",
      "2. View Account Details\n",
      "3. Deposit Money\n",
      "4. Withdraw Money\n",
      "5. Transfer Money\n",
      "6. View Transaction History\n",
      "7. View Summary Statistics\n",
      "8. Exit\n"
     ]
    },
    {
     "name": "stdin",
     "output_type": "stream",
     "text": [
      "Enter your choice:  5\n",
      "Enter sender account number:  31058802008\n",
      "Enter recipient account number:  54778603772\n",
      "Enter amount to transfer:  800\n"
     ]
    },
    {
     "name": "stdout",
     "output_type": "stream",
     "text": [
      "Transferred 800.0 from 31058802008 to 54778603772 successfully!\n",
      "\n",
      "Bank Account Management System\n",
      "1. Open a New Account\n",
      "2. View Account Details\n",
      "3. Deposit Money\n",
      "4. Withdraw Money\n",
      "5. Transfer Money\n",
      "6. View Transaction History\n",
      "7. View Summary Statistics\n",
      "8. Exit\n"
     ]
    },
    {
     "name": "stdin",
     "output_type": "stream",
     "text": [
      "Enter your choice:  6\n",
      "Enter account number:  54778603772\n"
     ]
    },
    {
     "name": "stdout",
     "output_type": "stream",
     "text": [
      "Date: 2024-12-07 17:00:32, Type: Transfer In, Amount: 800.0, Target Account: 31058802008\n",
      "\n",
      "Bank Account Management System\n",
      "1. Open a New Account\n",
      "2. View Account Details\n",
      "3. Deposit Money\n",
      "4. Withdraw Money\n",
      "5. Transfer Money\n",
      "6. View Transaction History\n",
      "7. View Summary Statistics\n",
      "8. Exit\n"
     ]
    },
    {
     "name": "stdin",
     "output_type": "stream",
     "text": [
      "Enter your choice:  7\n",
      "Enter account number:  54778603772\n"
     ]
    },
    {
     "name": "stdout",
     "output_type": "stream",
     "text": [
      "Total Deposits: 0\n",
      "Total Withdrawals: 0\n",
      "Average Transaction Amount: 800.0\n",
      "\n",
      "Bank Account Management System\n",
      "1. Open a New Account\n",
      "2. View Account Details\n",
      "3. Deposit Money\n",
      "4. Withdraw Money\n",
      "5. Transfer Money\n",
      "6. View Transaction History\n",
      "7. View Summary Statistics\n",
      "8. Exit\n"
     ]
    },
    {
     "name": "stdin",
     "output_type": "stream",
     "text": [
      "Enter your choice:  8\n"
     ]
    },
    {
     "name": "stdout",
     "output_type": "stream",
     "text": [
      "Exiting program. Goodbye!\n"
     ]
    }
   ],
   "source": [
    "import pickle\n",
    "import os\n",
    "import random\n",
    "import numpy as np\n",
    "from datetime import datetime\n",
    "\n",
    "# File to store account data\n",
    "DATA_FILE = 'accounts_data.pkl'\n",
    "TRANSACTIONS_FILE = 'transactions_data.pkl'\n",
    "\n",
    "# Initialize data\n",
    "accounts = {}\n",
    "transactions = []\n",
    "\n",
    "# Load data from files\n",
    "if os.path.exists(DATA_FILE):\n",
    "    with open(DATA_FILE, 'rb') as file:\n",
    "        accounts = pickle.load(file)\n",
    "\n",
    "if os.path.exists(TRANSACTIONS_FILE):\n",
    "    with open(TRANSACTIONS_FILE, 'rb') as file:\n",
    "        transactions = pickle.load(file)\n",
    "\n",
    "def generate_account_number():\n",
    "    return str(random.randint(10**10, 10**11 - 1))\n",
    "\n",
    "def create_password():\n",
    "    return str(random.randint(100000, 999999))\n",
    "\n",
    "def save_data():\n",
    "    with open(DATA_FILE, 'wb') as file:\n",
    "        pickle.dump(accounts, file)\n",
    "    with open(TRANSACTIONS_FILE, 'wb') as file:\n",
    "        pickle.dump(transactions, file)\n",
    "\n",
    "def record_transaction(account_no, type_, amount, target_account=None):\n",
    "    transaction = {\n",
    "        'account_no': account_no,\n",
    "        'type': type_,\n",
    "        'amount': amount,\n",
    "        'date': datetime.now().strftime('%Y-%m-%d %H:%M:%S'),\n",
    "        'target_account': target_account\n",
    "    }\n",
    "    transactions.append(transaction)\n",
    "    save_data()\n",
    "\n",
    "# Main Functions\n",
    "def open_account():\n",
    "    name = input(\"Enter account holder's name: \")\n",
    "    account_type = input(\"Enter account type (Savings/Current): \").capitalize()\n",
    "    initial_balance = float(input(\"Enter initial balance: \"))\n",
    "    \n",
    "    account_no = generate_account_number()\n",
    "    password = create_password()\n",
    "    user_id = name.lower().replace(' ', '_') + account_no[-4:]\n",
    "\n",
    "    accounts[account_no] = {\n",
    "        'name': name,\n",
    "        'type': account_type,\n",
    "        'balance': initial_balance,\n",
    "        'password': password,\n",
    "        'user_id': user_id\n",
    "    }\n",
    "    save_data()\n",
    "    print(f\"Account created successfully! Account No: {account_no}, User ID: {user_id}, Password: {password}\")\n",
    "\n",
    "def view_account():\n",
    "    account_no = input(\"Enter account number: \")\n",
    "    password = input(\"Enter account password: \")\n",
    "    account = accounts.get(account_no)\n",
    "\n",
    "    if account and account['password'] == password:\n",
    "        print(f\"Account Holder: {account['name']}\")\n",
    "        print(f\"Account Type: {account['type']}\")\n",
    "        print(f\"Account Balance: {account['balance']}\")\n",
    "    else:\n",
    "        print(\"Invalid account number or password.\")\n",
    "\n",
    "def deposit():\n",
    "    account_no = input(\"Enter account number: \")\n",
    "    amount = float(input(\"Enter amount to deposit: \"))\n",
    "\n",
    "    if account_no in accounts and amount > 0:\n",
    "        accounts[account_no]['balance'] += amount\n",
    "        record_transaction(account_no, 'Deposit', amount)\n",
    "        print(f\"Deposited {amount} successfully! New Balance: {accounts[account_no]['balance']}\")\n",
    "    else:\n",
    "        print(\"Invalid account number or amount.\")\n",
    "\n",
    "def withdraw():\n",
    "    account_no = input(\"Enter account number: \")\n",
    "    amount = float(input(\"Enter amount to withdraw: \"))\n",
    "\n",
    "    if account_no in accounts and 0 < amount <= accounts[account_no]['balance']:\n",
    "        accounts[account_no]['balance'] -= amount\n",
    "        record_transaction(account_no, 'Withdrawal', amount)\n",
    "        print(f\"Withdrew {amount} successfully! New Balance: {accounts[account_no]['balance']}\")\n",
    "    else:\n",
    "        print(\"Invalid account number or insufficient funds.\")\n",
    "\n",
    "def transfer():\n",
    "    sender_account = input(\"Enter sender account number: \")\n",
    "    recipient_account = input(\"Enter recipient account number: \")\n",
    "    amount = float(input(\"Enter amount to transfer: \"))\n",
    "\n",
    "    if sender_account in accounts and recipient_account in accounts and accounts[sender_account]['balance'] >= amount and amount > 0:\n",
    "        accounts[sender_account]['balance'] -= amount\n",
    "        accounts[recipient_account]['balance'] += amount\n",
    "        record_transaction(sender_account, 'Transfer Out', amount, recipient_account)\n",
    "        record_transaction(recipient_account, 'Transfer In', amount, sender_account)\n",
    "        print(f\"Transferred {amount} from {sender_account} to {recipient_account} successfully!\")\n",
    "    else:\n",
    "        print(\"Invalid account numbers or insufficient funds.\")\n",
    "\n",
    "def view_transaction_history():\n",
    "    account_no = input(\"Enter account number: \")\n",
    "    history = [t for t in transactions if t['account_no'] == account_no]\n",
    "\n",
    "    if history:\n",
    "        for t in history:\n",
    "            print(f\"Date: {t['date']}, Type: {t['type']}, Amount: {t['amount']}, Target Account: {t.get('target_account', 'N/A')}\")\n",
    "    else:\n",
    "        print(\"No transactions found for this account.\")\n",
    "\n",
    "def summary_statistics():\n",
    "    account_no = input(\"Enter account number: \")\n",
    "    history = [t for t in transactions if t['account_no'] == account_no]\n",
    "\n",
    "    if history:\n",
    "        deposits = [t['amount'] for t in history if t['type'] == 'Deposit']\n",
    "        withdrawals = [t['amount'] for t in history if t['type'] == 'Withdrawal']\n",
    "        print(f\"Total Deposits: {sum(deposits)}\")\n",
    "        print(f\"Total Withdrawals: {sum(withdrawals)}\")\n",
    "        print(f\"Average Transaction Amount: {np.mean([t['amount'] for t in history])}\")\n",
    "    else:\n",
    "        print(\"No transactions found for this account.\")\n",
    "\n",
    "# Main Menu\n",
    "def main_menu():\n",
    "    while True:\n",
    "        print(\"\\nBank Account Management System\")\n",
    "        print(\"1. Open a New Account\")\n",
    "        print(\"2. View Account Details\")\n",
    "        print(\"3. Deposit Money\")\n",
    "        print(\"4. Withdraw Money\")\n",
    "        print(\"5. Transfer Money\")\n",
    "        print(\"6. View Transaction History\")\n",
    "        print(\"7. View Summary Statistics\")\n",
    "        print(\"8. Exit\")\n",
    "\n",
    "        choice = input(\"Enter your choice: \")\n",
    "        if choice == '1':\n",
    "            open_account()\n",
    "        elif choice == '2':\n",
    "            view_account()\n",
    "        elif choice == '3':\n",
    "            deposit()\n",
    "        elif choice == '4':\n",
    "            withdraw()\n",
    "        elif choice == '5':\n",
    "            transfer()\n",
    "        elif choice == '6':\n",
    "            view_transaction_history()\n",
    "        elif choice == '7':\n",
    "            summary_statistics()\n",
    "        elif choice == '8':\n",
    "            print(\"Exiting program. Goodbye!\")\n",
    "            break\n",
    "        else:\n",
    "            print(\"Invalid choice. Please try again.\")\n",
    "\n",
    "# Start the program\n",
    "main_menu()"
   ]
  },
  {
   "cell_type": "code",
   "execution_count": null,
   "id": "2f32ae0e-feb2-4755-ade6-856a9a5157a3",
   "metadata": {},
   "outputs": [],
   "source": []
  }
 ],
 "metadata": {
  "kernelspec": {
   "display_name": "Python 3 (ipykernel)",
   "language": "python",
   "name": "python3"
  },
  "language_info": {
   "codemirror_mode": {
    "name": "ipython",
    "version": 3
   },
   "file_extension": ".py",
   "mimetype": "text/x-python",
   "name": "python",
   "nbconvert_exporter": "python",
   "pygments_lexer": "ipython3",
   "version": "3.12.3"
  }
 },
 "nbformat": 4,
 "nbformat_minor": 5
}
